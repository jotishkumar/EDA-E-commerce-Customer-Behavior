{
  "nbformat": 4,
  "nbformat_minor": 0,
  "metadata": {
    "colab": {
      "provenance": []
    },
    "kernelspec": {
      "name": "python3",
      "display_name": "Python 3"
    },
    "language_info": {
      "name": "python"
    }
  },
  "cells": [
    {
      "cell_type": "markdown",
      "source": [
        "## **Task**"
      ],
      "metadata": {
        "id": "qv0UO9wqSCf5"
      }
    },
    {
      "cell_type": "markdown",
      "source": [
        "### **Data Exploration**\n",
        "\n",
        "Explore the dataset to get a general understanding of the data.\n",
        "\n",
        "- Load the dataset using Pandas.\n",
        "- Print the first 10 rows of the dataset.\n",
        "- Display Statistical Summary. (show the summary for object data columns separately)\n",
        "- Get the information, data types of all columns and the shape of the dataset (number of rows and columns).\n",
        "- Display only Data types\n",
        "\n"
      ],
      "metadata": {
        "id": "1ts7tMGaRjXX"
      }
    },
    {
      "cell_type": "code",
      "execution_count": 1,
      "metadata": {
        "id": "MZ7cyWGnPiw1"
      },
      "outputs": [],
      "source": [
        "import pandas as pd"
      ]
    },
    {
      "cell_type": "code",
      "source": [
        "path=\"/content/drive/MyDrive/Dataset/E-commerce-Customer-Behavior.csv\";\n",
        "df=pd.read_csv(path)\n",
        "df.head(10)"
      ],
      "metadata": {
        "colab": {
          "base_uri": "https://localhost:8080/",
          "height": 415
        },
        "id": "Z9SeLtEYQqpI",
        "outputId": "1dac73ef-9ade-4090-b875-e4def5f590ec"
      },
      "execution_count": 4,
      "outputs": [
        {
          "output_type": "execute_result",
          "data": {
            "text/plain": [
              "   Customer ID  Gender  Age           City Membership Type  Total Spend  \\\n",
              "0          101  Female   29       New York            Gold      1120.20   \n",
              "1          102    Male   34    Los Angeles          Silver       780.50   \n",
              "2          103  Female   43        Chicago          Bronze       510.75   \n",
              "3          104    Male   30  San Francisco            Gold      1480.30   \n",
              "4          105    Male   27          Miami          Silver       720.40   \n",
              "5          106  Female   37        Houston          Bronze       440.80   \n",
              "6          107  Female   31       New York            Gold      1150.60   \n",
              "7          108    Male   35    Los Angeles          Silver       800.90   \n",
              "8          109  Female   41        Chicago          Bronze       495.25   \n",
              "9          110    Male   28  San Francisco            Gold      1520.10   \n",
              "\n",
              "   Items Purchased  Average Rating  Discount Applied  \\\n",
              "0               14             4.6              True   \n",
              "1               11             4.1             False   \n",
              "2                9             3.4              True   \n",
              "3               19             4.7             False   \n",
              "4               13             4.0              True   \n",
              "5                8             3.1             False   \n",
              "6               15             4.5              True   \n",
              "7               12             4.2             False   \n",
              "8               10             3.6              True   \n",
              "9               21             4.8             False   \n",
              "\n",
              "   Days Since Last Purchase Satisfaction Level  \n",
              "0                        25          Satisfied  \n",
              "1                        18            Neutral  \n",
              "2                        42        Unsatisfied  \n",
              "3                        12          Satisfied  \n",
              "4                        55        Unsatisfied  \n",
              "5                        22            Neutral  \n",
              "6                        28          Satisfied  \n",
              "7                        14            Neutral  \n",
              "8                        40        Unsatisfied  \n",
              "9                         9          Satisfied  "
            ],
            "text/html": [
              "\n",
              "  <div id=\"df-b829b8f5-4a00-473e-88bd-4ac827c12ba5\" class=\"colab-df-container\">\n",
              "    <div>\n",
              "<style scoped>\n",
              "    .dataframe tbody tr th:only-of-type {\n",
              "        vertical-align: middle;\n",
              "    }\n",
              "\n",
              "    .dataframe tbody tr th {\n",
              "        vertical-align: top;\n",
              "    }\n",
              "\n",
              "    .dataframe thead th {\n",
              "        text-align: right;\n",
              "    }\n",
              "</style>\n",
              "<table border=\"1\" class=\"dataframe\">\n",
              "  <thead>\n",
              "    <tr style=\"text-align: right;\">\n",
              "      <th></th>\n",
              "      <th>Customer ID</th>\n",
              "      <th>Gender</th>\n",
              "      <th>Age</th>\n",
              "      <th>City</th>\n",
              "      <th>Membership Type</th>\n",
              "      <th>Total Spend</th>\n",
              "      <th>Items Purchased</th>\n",
              "      <th>Average Rating</th>\n",
              "      <th>Discount Applied</th>\n",
              "      <th>Days Since Last Purchase</th>\n",
              "      <th>Satisfaction Level</th>\n",
              "    </tr>\n",
              "  </thead>\n",
              "  <tbody>\n",
              "    <tr>\n",
              "      <th>0</th>\n",
              "      <td>101</td>\n",
              "      <td>Female</td>\n",
              "      <td>29</td>\n",
              "      <td>New York</td>\n",
              "      <td>Gold</td>\n",
              "      <td>1120.20</td>\n",
              "      <td>14</td>\n",
              "      <td>4.6</td>\n",
              "      <td>True</td>\n",
              "      <td>25</td>\n",
              "      <td>Satisfied</td>\n",
              "    </tr>\n",
              "    <tr>\n",
              "      <th>1</th>\n",
              "      <td>102</td>\n",
              "      <td>Male</td>\n",
              "      <td>34</td>\n",
              "      <td>Los Angeles</td>\n",
              "      <td>Silver</td>\n",
              "      <td>780.50</td>\n",
              "      <td>11</td>\n",
              "      <td>4.1</td>\n",
              "      <td>False</td>\n",
              "      <td>18</td>\n",
              "      <td>Neutral</td>\n",
              "    </tr>\n",
              "    <tr>\n",
              "      <th>2</th>\n",
              "      <td>103</td>\n",
              "      <td>Female</td>\n",
              "      <td>43</td>\n",
              "      <td>Chicago</td>\n",
              "      <td>Bronze</td>\n",
              "      <td>510.75</td>\n",
              "      <td>9</td>\n",
              "      <td>3.4</td>\n",
              "      <td>True</td>\n",
              "      <td>42</td>\n",
              "      <td>Unsatisfied</td>\n",
              "    </tr>\n",
              "    <tr>\n",
              "      <th>3</th>\n",
              "      <td>104</td>\n",
              "      <td>Male</td>\n",
              "      <td>30</td>\n",
              "      <td>San Francisco</td>\n",
              "      <td>Gold</td>\n",
              "      <td>1480.30</td>\n",
              "      <td>19</td>\n",
              "      <td>4.7</td>\n",
              "      <td>False</td>\n",
              "      <td>12</td>\n",
              "      <td>Satisfied</td>\n",
              "    </tr>\n",
              "    <tr>\n",
              "      <th>4</th>\n",
              "      <td>105</td>\n",
              "      <td>Male</td>\n",
              "      <td>27</td>\n",
              "      <td>Miami</td>\n",
              "      <td>Silver</td>\n",
              "      <td>720.40</td>\n",
              "      <td>13</td>\n",
              "      <td>4.0</td>\n",
              "      <td>True</td>\n",
              "      <td>55</td>\n",
              "      <td>Unsatisfied</td>\n",
              "    </tr>\n",
              "    <tr>\n",
              "      <th>5</th>\n",
              "      <td>106</td>\n",
              "      <td>Female</td>\n",
              "      <td>37</td>\n",
              "      <td>Houston</td>\n",
              "      <td>Bronze</td>\n",
              "      <td>440.80</td>\n",
              "      <td>8</td>\n",
              "      <td>3.1</td>\n",
              "      <td>False</td>\n",
              "      <td>22</td>\n",
              "      <td>Neutral</td>\n",
              "    </tr>\n",
              "    <tr>\n",
              "      <th>6</th>\n",
              "      <td>107</td>\n",
              "      <td>Female</td>\n",
              "      <td>31</td>\n",
              "      <td>New York</td>\n",
              "      <td>Gold</td>\n",
              "      <td>1150.60</td>\n",
              "      <td>15</td>\n",
              "      <td>4.5</td>\n",
              "      <td>True</td>\n",
              "      <td>28</td>\n",
              "      <td>Satisfied</td>\n",
              "    </tr>\n",
              "    <tr>\n",
              "      <th>7</th>\n",
              "      <td>108</td>\n",
              "      <td>Male</td>\n",
              "      <td>35</td>\n",
              "      <td>Los Angeles</td>\n",
              "      <td>Silver</td>\n",
              "      <td>800.90</td>\n",
              "      <td>12</td>\n",
              "      <td>4.2</td>\n",
              "      <td>False</td>\n",
              "      <td>14</td>\n",
              "      <td>Neutral</td>\n",
              "    </tr>\n",
              "    <tr>\n",
              "      <th>8</th>\n",
              "      <td>109</td>\n",
              "      <td>Female</td>\n",
              "      <td>41</td>\n",
              "      <td>Chicago</td>\n",
              "      <td>Bronze</td>\n",
              "      <td>495.25</td>\n",
              "      <td>10</td>\n",
              "      <td>3.6</td>\n",
              "      <td>True</td>\n",
              "      <td>40</td>\n",
              "      <td>Unsatisfied</td>\n",
              "    </tr>\n",
              "    <tr>\n",
              "      <th>9</th>\n",
              "      <td>110</td>\n",
              "      <td>Male</td>\n",
              "      <td>28</td>\n",
              "      <td>San Francisco</td>\n",
              "      <td>Gold</td>\n",
              "      <td>1520.10</td>\n",
              "      <td>21</td>\n",
              "      <td>4.8</td>\n",
              "      <td>False</td>\n",
              "      <td>9</td>\n",
              "      <td>Satisfied</td>\n",
              "    </tr>\n",
              "  </tbody>\n",
              "</table>\n",
              "</div>\n",
              "    <div class=\"colab-df-buttons\">\n",
              "\n",
              "  <div class=\"colab-df-container\">\n",
              "    <button class=\"colab-df-convert\" onclick=\"convertToInteractive('df-b829b8f5-4a00-473e-88bd-4ac827c12ba5')\"\n",
              "            title=\"Convert this dataframe to an interactive table.\"\n",
              "            style=\"display:none;\">\n",
              "\n",
              "  <svg xmlns=\"http://www.w3.org/2000/svg\" height=\"24px\" viewBox=\"0 -960 960 960\">\n",
              "    <path d=\"M120-120v-720h720v720H120Zm60-500h600v-160H180v160Zm220 220h160v-160H400v160Zm0 220h160v-160H400v160ZM180-400h160v-160H180v160Zm440 0h160v-160H620v160ZM180-180h160v-160H180v160Zm440 0h160v-160H620v160Z\"/>\n",
              "  </svg>\n",
              "    </button>\n",
              "\n",
              "  <style>\n",
              "    .colab-df-container {\n",
              "      display:flex;\n",
              "      gap: 12px;\n",
              "    }\n",
              "\n",
              "    .colab-df-convert {\n",
              "      background-color: #E8F0FE;\n",
              "      border: none;\n",
              "      border-radius: 50%;\n",
              "      cursor: pointer;\n",
              "      display: none;\n",
              "      fill: #1967D2;\n",
              "      height: 32px;\n",
              "      padding: 0 0 0 0;\n",
              "      width: 32px;\n",
              "    }\n",
              "\n",
              "    .colab-df-convert:hover {\n",
              "      background-color: #E2EBFA;\n",
              "      box-shadow: 0px 1px 2px rgba(60, 64, 67, 0.3), 0px 1px 3px 1px rgba(60, 64, 67, 0.15);\n",
              "      fill: #174EA6;\n",
              "    }\n",
              "\n",
              "    .colab-df-buttons div {\n",
              "      margin-bottom: 4px;\n",
              "    }\n",
              "\n",
              "    [theme=dark] .colab-df-convert {\n",
              "      background-color: #3B4455;\n",
              "      fill: #D2E3FC;\n",
              "    }\n",
              "\n",
              "    [theme=dark] .colab-df-convert:hover {\n",
              "      background-color: #434B5C;\n",
              "      box-shadow: 0px 1px 3px 1px rgba(0, 0, 0, 0.15);\n",
              "      filter: drop-shadow(0px 1px 2px rgba(0, 0, 0, 0.3));\n",
              "      fill: #FFFFFF;\n",
              "    }\n",
              "  </style>\n",
              "\n",
              "    <script>\n",
              "      const buttonEl =\n",
              "        document.querySelector('#df-b829b8f5-4a00-473e-88bd-4ac827c12ba5 button.colab-df-convert');\n",
              "      buttonEl.style.display =\n",
              "        google.colab.kernel.accessAllowed ? 'block' : 'none';\n",
              "\n",
              "      async function convertToInteractive(key) {\n",
              "        const element = document.querySelector('#df-b829b8f5-4a00-473e-88bd-4ac827c12ba5');\n",
              "        const dataTable =\n",
              "          await google.colab.kernel.invokeFunction('convertToInteractive',\n",
              "                                                    [key], {});\n",
              "        if (!dataTable) return;\n",
              "\n",
              "        const docLinkHtml = 'Like what you see? Visit the ' +\n",
              "          '<a target=\"_blank\" href=https://colab.research.google.com/notebooks/data_table.ipynb>data table notebook</a>'\n",
              "          + ' to learn more about interactive tables.';\n",
              "        element.innerHTML = '';\n",
              "        dataTable['output_type'] = 'display_data';\n",
              "        await google.colab.output.renderOutput(dataTable, element);\n",
              "        const docLink = document.createElement('div');\n",
              "        docLink.innerHTML = docLinkHtml;\n",
              "        element.appendChild(docLink);\n",
              "      }\n",
              "    </script>\n",
              "  </div>\n",
              "\n",
              "\n",
              "<div id=\"df-b29946c3-66b2-4ec4-8096-6e0f6b127058\">\n",
              "  <button class=\"colab-df-quickchart\" onclick=\"quickchart('df-b29946c3-66b2-4ec4-8096-6e0f6b127058')\"\n",
              "            title=\"Suggest charts\"\n",
              "            style=\"display:none;\">\n",
              "\n",
              "<svg xmlns=\"http://www.w3.org/2000/svg\" height=\"24px\"viewBox=\"0 0 24 24\"\n",
              "     width=\"24px\">\n",
              "    <g>\n",
              "        <path d=\"M19 3H5c-1.1 0-2 .9-2 2v14c0 1.1.9 2 2 2h14c1.1 0 2-.9 2-2V5c0-1.1-.9-2-2-2zM9 17H7v-7h2v7zm4 0h-2V7h2v10zm4 0h-2v-4h2v4z\"/>\n",
              "    </g>\n",
              "</svg>\n",
              "  </button>\n",
              "\n",
              "<style>\n",
              "  .colab-df-quickchart {\n",
              "      --bg-color: #E8F0FE;\n",
              "      --fill-color: #1967D2;\n",
              "      --hover-bg-color: #E2EBFA;\n",
              "      --hover-fill-color: #174EA6;\n",
              "      --disabled-fill-color: #AAA;\n",
              "      --disabled-bg-color: #DDD;\n",
              "  }\n",
              "\n",
              "  [theme=dark] .colab-df-quickchart {\n",
              "      --bg-color: #3B4455;\n",
              "      --fill-color: #D2E3FC;\n",
              "      --hover-bg-color: #434B5C;\n",
              "      --hover-fill-color: #FFFFFF;\n",
              "      --disabled-bg-color: #3B4455;\n",
              "      --disabled-fill-color: #666;\n",
              "  }\n",
              "\n",
              "  .colab-df-quickchart {\n",
              "    background-color: var(--bg-color);\n",
              "    border: none;\n",
              "    border-radius: 50%;\n",
              "    cursor: pointer;\n",
              "    display: none;\n",
              "    fill: var(--fill-color);\n",
              "    height: 32px;\n",
              "    padding: 0;\n",
              "    width: 32px;\n",
              "  }\n",
              "\n",
              "  .colab-df-quickchart:hover {\n",
              "    background-color: var(--hover-bg-color);\n",
              "    box-shadow: 0 1px 2px rgba(60, 64, 67, 0.3), 0 1px 3px 1px rgba(60, 64, 67, 0.15);\n",
              "    fill: var(--button-hover-fill-color);\n",
              "  }\n",
              "\n",
              "  .colab-df-quickchart-complete:disabled,\n",
              "  .colab-df-quickchart-complete:disabled:hover {\n",
              "    background-color: var(--disabled-bg-color);\n",
              "    fill: var(--disabled-fill-color);\n",
              "    box-shadow: none;\n",
              "  }\n",
              "\n",
              "  .colab-df-spinner {\n",
              "    border: 2px solid var(--fill-color);\n",
              "    border-color: transparent;\n",
              "    border-bottom-color: var(--fill-color);\n",
              "    animation:\n",
              "      spin 1s steps(1) infinite;\n",
              "  }\n",
              "\n",
              "  @keyframes spin {\n",
              "    0% {\n",
              "      border-color: transparent;\n",
              "      border-bottom-color: var(--fill-color);\n",
              "      border-left-color: var(--fill-color);\n",
              "    }\n",
              "    20% {\n",
              "      border-color: transparent;\n",
              "      border-left-color: var(--fill-color);\n",
              "      border-top-color: var(--fill-color);\n",
              "    }\n",
              "    30% {\n",
              "      border-color: transparent;\n",
              "      border-left-color: var(--fill-color);\n",
              "      border-top-color: var(--fill-color);\n",
              "      border-right-color: var(--fill-color);\n",
              "    }\n",
              "    40% {\n",
              "      border-color: transparent;\n",
              "      border-right-color: var(--fill-color);\n",
              "      border-top-color: var(--fill-color);\n",
              "    }\n",
              "    60% {\n",
              "      border-color: transparent;\n",
              "      border-right-color: var(--fill-color);\n",
              "    }\n",
              "    80% {\n",
              "      border-color: transparent;\n",
              "      border-right-color: var(--fill-color);\n",
              "      border-bottom-color: var(--fill-color);\n",
              "    }\n",
              "    90% {\n",
              "      border-color: transparent;\n",
              "      border-bottom-color: var(--fill-color);\n",
              "    }\n",
              "  }\n",
              "</style>\n",
              "\n",
              "  <script>\n",
              "    async function quickchart(key) {\n",
              "      const quickchartButtonEl =\n",
              "        document.querySelector('#' + key + ' button');\n",
              "      quickchartButtonEl.disabled = true;  // To prevent multiple clicks.\n",
              "      quickchartButtonEl.classList.add('colab-df-spinner');\n",
              "      try {\n",
              "        const charts = await google.colab.kernel.invokeFunction(\n",
              "            'suggestCharts', [key], {});\n",
              "      } catch (error) {\n",
              "        console.error('Error during call to suggestCharts:', error);\n",
              "      }\n",
              "      quickchartButtonEl.classList.remove('colab-df-spinner');\n",
              "      quickchartButtonEl.classList.add('colab-df-quickchart-complete');\n",
              "    }\n",
              "    (() => {\n",
              "      let quickchartButtonEl =\n",
              "        document.querySelector('#df-b29946c3-66b2-4ec4-8096-6e0f6b127058 button');\n",
              "      quickchartButtonEl.style.display =\n",
              "        google.colab.kernel.accessAllowed ? 'block' : 'none';\n",
              "    })();\n",
              "  </script>\n",
              "</div>\n",
              "\n",
              "    </div>\n",
              "  </div>\n"
            ],
            "application/vnd.google.colaboratory.intrinsic+json": {
              "type": "dataframe",
              "variable_name": "df",
              "summary": "{\n  \"name\": \"df\",\n  \"rows\": 350,\n  \"fields\": [\n    {\n      \"column\": \"Customer ID\",\n      \"properties\": {\n        \"dtype\": \"number\",\n        \"std\": 101,\n        \"min\": 101,\n        \"max\": 450,\n        \"num_unique_values\": 350,\n        \"samples\": [\n          258,\n          442,\n          416\n        ],\n        \"semantic_type\": \"\",\n        \"description\": \"\"\n      }\n    },\n    {\n      \"column\": \"Gender\",\n      \"properties\": {\n        \"dtype\": \"category\",\n        \"num_unique_values\": 2,\n        \"samples\": [\n          \"Male\",\n          \"Female\"\n        ],\n        \"semantic_type\": \"\",\n        \"description\": \"\"\n      }\n    },\n    {\n      \"column\": \"Age\",\n      \"properties\": {\n        \"dtype\": \"number\",\n        \"std\": 4,\n        \"min\": 26,\n        \"max\": 43,\n        \"num_unique_values\": 16,\n        \"samples\": [\n          29,\n          34\n        ],\n        \"semantic_type\": \"\",\n        \"description\": \"\"\n      }\n    },\n    {\n      \"column\": \"City\",\n      \"properties\": {\n        \"dtype\": \"category\",\n        \"num_unique_values\": 6,\n        \"samples\": [\n          \"New York\",\n          \"Los Angeles\"\n        ],\n        \"semantic_type\": \"\",\n        \"description\": \"\"\n      }\n    },\n    {\n      \"column\": \"Membership Type\",\n      \"properties\": {\n        \"dtype\": \"category\",\n        \"num_unique_values\": 3,\n        \"samples\": [\n          \"Gold\",\n          \"Silver\"\n        ],\n        \"semantic_type\": \"\",\n        \"description\": \"\"\n      }\n    },\n    {\n      \"column\": \"Total Spend\",\n      \"properties\": {\n        \"dtype\": \"number\",\n        \"std\": 362.05869534746563,\n        \"min\": 410.8,\n        \"max\": 1520.1,\n        \"num_unique_values\": 76,\n        \"samples\": [\n          720.4,\n          440.9\n        ],\n        \"semantic_type\": \"\",\n        \"description\": \"\"\n      }\n    },\n    {\n      \"column\": \"Items Purchased\",\n      \"properties\": {\n        \"dtype\": \"number\",\n        \"std\": 4,\n        \"min\": 7,\n        \"max\": 21,\n        \"num_unique_values\": 15,\n        \"samples\": [\n          21,\n          16\n        ],\n        \"semantic_type\": \"\",\n        \"description\": \"\"\n      }\n    },\n    {\n      \"column\": \"Average Rating\",\n      \"properties\": {\n        \"dtype\": \"number\",\n        \"std\": 0.580538587146968,\n        \"min\": 3.0,\n        \"max\": 4.9,\n        \"num_unique_values\": 20,\n        \"samples\": [\n          4.6,\n          3.0\n        ],\n        \"semantic_type\": \"\",\n        \"description\": \"\"\n      }\n    },\n    {\n      \"column\": \"Discount Applied\",\n      \"properties\": {\n        \"dtype\": \"boolean\",\n        \"num_unique_values\": 2,\n        \"samples\": [\n          false,\n          true\n        ],\n        \"semantic_type\": \"\",\n        \"description\": \"\"\n      }\n    },\n    {\n      \"column\": \"Days Since Last Purchase\",\n      \"properties\": {\n        \"dtype\": \"number\",\n        \"std\": 13,\n        \"min\": 9,\n        \"max\": 63,\n        \"num_unique_values\": 54,\n        \"samples\": [\n          41,\n          60\n        ],\n        \"semantic_type\": \"\",\n        \"description\": \"\"\n      }\n    },\n    {\n      \"column\": \"Satisfaction Level\",\n      \"properties\": {\n        \"dtype\": \"category\",\n        \"num_unique_values\": 3,\n        \"samples\": [\n          \"Satisfied\",\n          \"Neutral\"\n        ],\n        \"semantic_type\": \"\",\n        \"description\": \"\"\n      }\n    }\n  ]\n}"
            }
          },
          "metadata": {},
          "execution_count": 4
        }
      ]
    },
    {
      "cell_type": "markdown",
      "source": [
        "Display Statistical Summary. (show the summary for object data columns separately)"
      ],
      "metadata": {
        "id": "7COiQDSUSWmH"
      }
    },
    {
      "cell_type": "code",
      "source": [
        "print(df.describe(include='object'))"
      ],
      "metadata": {
        "id": "YOyylzJOPloX",
        "colab": {
          "base_uri": "https://localhost:8080/"
        },
        "outputId": "c6615f0f-f78c-4d47-ea09-7f64bcf91ae2"
      },
      "execution_count": 6,
      "outputs": [
        {
          "output_type": "stream",
          "name": "stdout",
          "text": [
            "        Gender      City Membership Type Satisfaction Level\n",
            "count      350       350             350                348\n",
            "unique       2         6               3                  3\n",
            "top     Female  New York            Gold          Satisfied\n",
            "freq       175        59             117                125\n"
          ]
        }
      ]
    },
    {
      "cell_type": "markdown",
      "source": [],
      "metadata": {
        "id": "ANMfgVZiSanQ"
      }
    },
    {
      "cell_type": "markdown",
      "source": [
        "Get the information, data types of all columns and the shape of the dataset (number of rows and columns)."
      ],
      "metadata": {
        "id": "pROu44WNSfc-"
      }
    },
    {
      "cell_type": "code",
      "source": [
        "df_info = df.info()\n",
        "df_shape = df.shape\n",
        "print(\"\\nDataFrame Information:\")\n",
        "print(df_info)\n",
        "print(\"\\nShape of the DataFrame:\")\n",
        "print(f\"Number of rows: {df_shape[0]}, Number of columns: {df_shape[1]}\")"
      ],
      "metadata": {
        "colab": {
          "base_uri": "https://localhost:8080/"
        },
        "id": "vjCVj1fhShr3",
        "outputId": "c1667d0d-f87e-435b-ee47-eb64c636ba2e"
      },
      "execution_count": 7,
      "outputs": [
        {
          "output_type": "stream",
          "name": "stdout",
          "text": [
            "<class 'pandas.core.frame.DataFrame'>\n",
            "RangeIndex: 350 entries, 0 to 349\n",
            "Data columns (total 11 columns):\n",
            " #   Column                    Non-Null Count  Dtype  \n",
            "---  ------                    --------------  -----  \n",
            " 0   Customer ID               350 non-null    int64  \n",
            " 1   Gender                    350 non-null    object \n",
            " 2   Age                       350 non-null    int64  \n",
            " 3   City                      350 non-null    object \n",
            " 4   Membership Type           350 non-null    object \n",
            " 5   Total Spend               350 non-null    float64\n",
            " 6   Items Purchased           350 non-null    int64  \n",
            " 7   Average Rating            350 non-null    float64\n",
            " 8   Discount Applied          350 non-null    bool   \n",
            " 9   Days Since Last Purchase  350 non-null    int64  \n",
            " 10  Satisfaction Level        348 non-null    object \n",
            "dtypes: bool(1), float64(2), int64(4), object(4)\n",
            "memory usage: 27.8+ KB\n",
            "\n",
            "DataFrame Information:\n",
            "None\n",
            "\n",
            "Shape of the DataFrame:\n",
            "Number of rows: 350, Number of columns: 11\n"
          ]
        }
      ]
    },
    {
      "cell_type": "markdown",
      "source": [
        "Display only Data types"
      ],
      "metadata": {
        "id": "D0HVCZB4TPvS"
      }
    },
    {
      "cell_type": "code",
      "source": [
        "data_types = df.dtypes\n",
        "print(\"\\nData Types of Each Column:\")\n",
        "print(data_types)"
      ],
      "metadata": {
        "colab": {
          "base_uri": "https://localhost:8080/"
        },
        "id": "lgMMLaS1TQlP",
        "outputId": "a6ba5698-de2a-41f6-e23b-a4e44678676a"
      },
      "execution_count": 8,
      "outputs": [
        {
          "output_type": "stream",
          "name": "stdout",
          "text": [
            "\n",
            "Data Types of Each Column:\n",
            "Customer ID                   int64\n",
            "Gender                       object\n",
            "Age                           int64\n",
            "City                         object\n",
            "Membership Type              object\n",
            "Total Spend                 float64\n",
            "Items Purchased               int64\n",
            "Average Rating              float64\n",
            "Discount Applied               bool\n",
            "Days Since Last Purchase      int64\n",
            "Satisfaction Level           object\n",
            "dtype: object\n"
          ]
        }
      ]
    },
    {
      "cell_type": "markdown",
      "source": [
        "### **Handling Missing Values**\n",
        "Identify and deal with any missing data.\n",
        "\n",
        "- Check for missing values in the dataset.\n",
        "- If missing values exist, Show the rows with missing values.\n",
        "- If missing values exist, Decide whether to fill them (using the mean, median, etc.) or drop them and justify your choice.\n",
        "\n",
        "\n",
        "(3 Points)"
      ],
      "metadata": {
        "id": "fwsp38hmTcWw"
      }
    },
    {
      "cell_type": "code",
      "source": [
        "missing_values = df.isnull().sum()\n",
        "print(\"\\nMissing Values in Each Column:\")\n",
        "print(missing_values)"
      ],
      "metadata": {
        "colab": {
          "base_uri": "https://localhost:8080/"
        },
        "id": "gmY6gI_yTdwH",
        "outputId": "3a13c61b-3cce-4aa8-ab97-479459b83446"
      },
      "execution_count": 9,
      "outputs": [
        {
          "output_type": "stream",
          "name": "stdout",
          "text": [
            "\n",
            "Missing Values in Each Column:\n",
            "Customer ID                 0\n",
            "Gender                      0\n",
            "Age                         0\n",
            "City                        0\n",
            "Membership Type             0\n",
            "Total Spend                 0\n",
            "Items Purchased             0\n",
            "Average Rating              0\n",
            "Discount Applied            0\n",
            "Days Since Last Purchase    0\n",
            "Satisfaction Level          2\n",
            "dtype: int64\n"
          ]
        }
      ]
    },
    {
      "cell_type": "code",
      "source": [
        "if missing_values.any():\n",
        "    print(\"\\nRows with Missing Values:\")\n",
        "    print(df[df.isnull().any(axis=1)])"
      ],
      "metadata": {
        "colab": {
          "base_uri": "https://localhost:8080/"
        },
        "id": "-99JYxvuTemQ",
        "outputId": "c512d6a7-4903-4837-a98d-24067513f202"
      },
      "execution_count": 10,
      "outputs": [
        {
          "output_type": "stream",
          "name": "stdout",
          "text": [
            "\n",
            "Rows with Missing Values:\n",
            "     Customer ID  Gender  Age     City Membership Type  Total Spend  \\\n",
            "71           172  Female   37  Houston          Bronze        420.8   \n",
            "143          244  Female   37  Houston          Bronze        430.8   \n",
            "\n",
            "     Items Purchased  Average Rating  Discount Applied  \\\n",
            "71                 7             3.1             False   \n",
            "143                7             3.4             False   \n",
            "\n",
            "     Days Since Last Purchase Satisfaction Level  \n",
            "71                         21                NaN  \n",
            "143                        23                NaN  \n"
          ]
        }
      ]
    },
    {
      "cell_type": "code",
      "source": [],
      "metadata": {
        "id": "eh-61PZaTeO_"
      },
      "execution_count": null,
      "outputs": []
    },
    {
      "cell_type": "markdown",
      "source": [
        "### **Duplicates**\n",
        "\n",
        "- Check for duplicate records in the dataset. If duplicates exist, remove them.\n",
        "\n",
        "(1 Point)"
      ],
      "metadata": {
        "id": "EgslWNhYT1PS"
      }
    },
    {
      "cell_type": "code",
      "source": [
        "duplicates = df.duplicated().sum()\n",
        "print(f\"\\nNumber of Duplicate Records: {duplicates}\")"
      ],
      "metadata": {
        "colab": {
          "base_uri": "https://localhost:8080/"
        },
        "id": "d4qYVgHdT41B",
        "outputId": "589f6219-299d-4b9a-ce67-d94c6c966713"
      },
      "execution_count": 11,
      "outputs": [
        {
          "output_type": "stream",
          "name": "stdout",
          "text": [
            "\n",
            "Number of Duplicate Records: 0\n"
          ]
        }
      ]
    },
    {
      "cell_type": "markdown",
      "source": [
        "### **Conditional Filtering**\n",
        "Filter data based on specific conditions.\n",
        "\n",
        "- How many customers have the Gold membership type?\n",
        "- Filter and display customers who spent more than $1,000.\n",
        "- Identify customers from New York who applied a discount.\n",
        "\n",
        "( 3 points)"
      ],
      "metadata": {
        "id": "SHbTb15KUMfp"
      }
    },
    {
      "cell_type": "code",
      "source": [
        "gold_membership_count = df[df['Membership Type'] == 'Gold'].shape[0]\n",
        "print(f\"\\nNumber of Customers with Gold Membership: {gold_membership_count}\")"
      ],
      "metadata": {
        "colab": {
          "base_uri": "https://localhost:8080/"
        },
        "id": "gQ_h_N6gUN6w",
        "outputId": "e564071a-beca-4262-a8eb-d39ec7403bf6"
      },
      "execution_count": 13,
      "outputs": [
        {
          "output_type": "stream",
          "name": "stdout",
          "text": [
            "\n",
            "Number of Customers with Gold Membership: 117\n"
          ]
        }
      ]
    },
    {
      "cell_type": "code",
      "source": [
        "high_spenders = df[df['Total Spend'] > 1000]\n",
        "print(\"\\nCustomers who spent more than $1,000:\")\n",
        "print(high_spenders)"
      ],
      "metadata": {
        "colab": {
          "base_uri": "https://localhost:8080/"
        },
        "id": "ZNqOnpInUUoQ",
        "outputId": "57b98ca4-3565-43a2-a1bc-2b39e25878eb"
      },
      "execution_count": 14,
      "outputs": [
        {
          "output_type": "stream",
          "name": "stdout",
          "text": [
            "\n",
            "Customers who spent more than $1,000:\n",
            "     Customer ID  Gender  Age           City Membership Type  Total Spend  \\\n",
            "0            101  Female   29       New York            Gold       1120.2   \n",
            "3            104    Male   30  San Francisco            Gold       1480.3   \n",
            "6            107  Female   31       New York            Gold       1150.6   \n",
            "9            110    Male   28  San Francisco            Gold       1520.1   \n",
            "12           113  Female   30       New York            Gold       1200.8   \n",
            "..           ...     ...  ...            ...             ...          ...   \n",
            "335          436  Female   30       New York            Gold       1200.8   \n",
            "338          439    Male   30  San Francisco            Gold       1460.5   \n",
            "341          442  Female   31       New York            Gold       1140.6   \n",
            "344          445    Male   28  San Francisco            Gold       1480.1   \n",
            "347          448  Female   30       New York            Gold       1190.8   \n",
            "\n",
            "     Items Purchased  Average Rating  Discount Applied  \\\n",
            "0                 14             4.6              True   \n",
            "3                 19             4.7             False   \n",
            "6                 15             4.5              True   \n",
            "9                 21             4.8             False   \n",
            "12                16             4.3              True   \n",
            "..               ...             ...               ...   \n",
            "335               16             4.7              True   \n",
            "338               20             4.8             False   \n",
            "341               15             4.5              True   \n",
            "344               21             4.9             False   \n",
            "347               16             4.5              True   \n",
            "\n",
            "     Days Since Last Purchase Satisfaction Level  \n",
            "0                          25          Satisfied  \n",
            "3                          12          Satisfied  \n",
            "6                          28          Satisfied  \n",
            "9                           9          Satisfied  \n",
            "12                         21          Satisfied  \n",
            "..                        ...                ...  \n",
            "335                        28          Satisfied  \n",
            "338                        15          Satisfied  \n",
            "341                        36          Satisfied  \n",
            "344                        13          Satisfied  \n",
            "347                        28          Satisfied  \n",
            "\n",
            "[117 rows x 11 columns]\n"
          ]
        }
      ]
    },
    {
      "cell_type": "code",
      "source": [
        "ny_discount_customers = df[(df['City'] == 'New York') & (df['Discount Applied'] == True)]\n",
        "print(\"\\nCustomers from New York who applied a discount:\")\n",
        "print(ny_discount_customers)"
      ],
      "metadata": {
        "colab": {
          "base_uri": "https://localhost:8080/"
        },
        "id": "CW_P_FZfUYJg",
        "outputId": "1c948d0f-8dcd-4b66-e6eb-befece667fdb"
      },
      "execution_count": 15,
      "outputs": [
        {
          "output_type": "stream",
          "name": "stdout",
          "text": [
            "\n",
            "Customers from New York who applied a discount:\n",
            "     Customer ID  Gender  Age      City Membership Type  Total Spend  \\\n",
            "0            101  Female   29  New York            Gold       1120.2   \n",
            "6            107  Female   31  New York            Gold       1150.6   \n",
            "12           113  Female   30  New York            Gold       1200.8   \n",
            "18           119  Female   32  New York            Gold       1170.3   \n",
            "24           125  Female   31  New York            Gold       1140.6   \n",
            "30           131  Female   30  New York            Gold       1190.8   \n",
            "36           137  Female   32  New York            Gold       1160.3   \n",
            "42           143  Female   31  New York            Gold       1130.6   \n",
            "48           149  Female   30  New York            Gold       1180.8   \n",
            "54           155  Female   31  New York            Gold       1140.6   \n",
            "60           161  Female   30  New York            Gold       1190.8   \n",
            "66           167  Female   32  New York            Gold       1160.3   \n",
            "72           173  Female   31  New York            Gold       1130.6   \n",
            "78           179  Female   30  New York            Gold       1180.8   \n",
            "84           185  Female   31  New York            Gold       1140.6   \n",
            "90           191  Female   30  New York            Gold       1190.8   \n",
            "96           197  Female   32  New York            Gold       1160.3   \n",
            "102          203  Female   31  New York            Gold       1130.6   \n",
            "108          209  Female   30  New York            Gold       1180.8   \n",
            "114          215  Female   31  New York            Gold       1140.6   \n",
            "120          221  Female   30  New York            Gold       1190.8   \n",
            "126          227  Female   32  New York            Gold       1160.3   \n",
            "132          233  Female   31  New York            Gold       1130.6   \n",
            "138          239  Female   30  New York            Gold       1180.8   \n",
            "144          245  Female   31  New York            Gold       1130.6   \n",
            "150          251  Female   30  New York            Gold       1180.8   \n",
            "156          257  Female   31  New York            Gold       1140.6   \n",
            "162          263  Female   30  New York            Gold       1190.8   \n",
            "168          269  Female   32  New York            Gold       1160.3   \n",
            "174          275  Female   31  New York            Gold       1140.6   \n",
            "180          281  Female   30  New York            Gold       1180.8   \n",
            "186          287  Female   31  New York            Gold       1130.6   \n",
            "192          293  Female   30  New York            Gold       1190.8   \n",
            "198          299  Female   32  New York            Gold       1160.3   \n",
            "203          304    Male   31  New York            Gold       1210.6   \n",
            "209          310  Female   32  New York            Gold       1170.3   \n",
            "215          316  Female   31  New York            Gold       1130.6   \n",
            "221          322  Female   30  New York            Gold       1180.8   \n",
            "227          328  Female   31  New York            Gold       1140.6   \n",
            "233          334  Female   30  New York            Gold       1190.8   \n",
            "239          340  Female   32  New York            Gold       1160.3   \n",
            "245          346  Female   31  New York            Gold       1150.6   \n",
            "251          352  Female   30  New York            Gold       1170.8   \n",
            "257          358  Female   31  New York            Gold       1160.6   \n",
            "263          364  Female   30  New York            Gold       1200.8   \n",
            "269          370  Female   31  New York            Gold       1140.6   \n",
            "275          376  Female   30  New York            Gold       1190.8   \n",
            "281          382  Female   31  New York            Gold       1160.6   \n",
            "287          388  Female   30  New York            Gold       1200.8   \n",
            "293          394  Female   31  New York            Gold       1140.6   \n",
            "299          400  Female   30  New York            Gold       1190.8   \n",
            "305          406  Female   31  New York            Gold       1160.6   \n",
            "311          412  Female   30  New York            Gold       1200.8   \n",
            "317          418  Female   31  New York            Gold       1140.6   \n",
            "323          424  Female   30  New York            Gold       1190.8   \n",
            "329          430  Female   31  New York            Gold       1160.6   \n",
            "335          436  Female   30  New York            Gold       1200.8   \n",
            "341          442  Female   31  New York            Gold       1140.6   \n",
            "347          448  Female   30  New York            Gold       1190.8   \n",
            "\n",
            "     Items Purchased  Average Rating  Discount Applied  \\\n",
            "0                 14             4.6              True   \n",
            "6                 15             4.5              True   \n",
            "12                16             4.3              True   \n",
            "18                14             4.7              True   \n",
            "24                15             4.6              True   \n",
            "30                16             4.5              True   \n",
            "36                14             4.4              True   \n",
            "42                15             4.5              True   \n",
            "48                16             4.7              True   \n",
            "54                15             4.6              True   \n",
            "60                16             4.5              True   \n",
            "66                14             4.4              True   \n",
            "72                15             4.5              True   \n",
            "78                16             4.7              True   \n",
            "84                15             4.6              True   \n",
            "90                16             4.5              True   \n",
            "96                14             4.4              True   \n",
            "102               15             4.5              True   \n",
            "108               16             4.7              True   \n",
            "114               15             4.6              True   \n",
            "120               16             4.5              True   \n",
            "126               14             4.4              True   \n",
            "132               15             4.5              True   \n",
            "138               16             4.7              True   \n",
            "144               15             4.5              True   \n",
            "150               16             4.7              True   \n",
            "156               15             4.6              True   \n",
            "162               16             4.5              True   \n",
            "168               14             4.4              True   \n",
            "174               15             4.5              True   \n",
            "180               16             4.7              True   \n",
            "186               15             4.5              True   \n",
            "192               16             4.5              True   \n",
            "198               14             4.4              True   \n",
            "203               17             4.8              True   \n",
            "209               14             4.5              True   \n",
            "215               15             4.5              True   \n",
            "221               16             4.7              True   \n",
            "227               15             4.5              True   \n",
            "233               16             4.5              True   \n",
            "239               14             4.4              True   \n",
            "245               15             4.5              True   \n",
            "251               16             4.7              True   \n",
            "257               15             4.5              True   \n",
            "263               16             4.7              True   \n",
            "269               15             4.5              True   \n",
            "275               16             4.5              True   \n",
            "281               15             4.5              True   \n",
            "287               16             4.7              True   \n",
            "293               15             4.5              True   \n",
            "299               16             4.5              True   \n",
            "305               15             4.5              True   \n",
            "311               16             4.7              True   \n",
            "317               15             4.5              True   \n",
            "323               16             4.5              True   \n",
            "329               15             4.5              True   \n",
            "335               16             4.7              True   \n",
            "341               15             4.5              True   \n",
            "347               16             4.5              True   \n",
            "\n",
            "     Days Since Last Purchase Satisfaction Level  \n",
            "0                          25          Satisfied  \n",
            "6                          28          Satisfied  \n",
            "12                         21          Satisfied  \n",
            "18                         29          Satisfied  \n",
            "24                         27          Satisfied  \n",
            "30                         20          Satisfied  \n",
            "36                         22          Satisfied  \n",
            "42                         26          Satisfied  \n",
            "48                         19          Satisfied  \n",
            "54                         27          Satisfied  \n",
            "60                         20          Satisfied  \n",
            "66                         22          Satisfied  \n",
            "72                         26          Satisfied  \n",
            "78                         19          Satisfied  \n",
            "84                         27          Satisfied  \n",
            "90                         20          Satisfied  \n",
            "96                         22          Satisfied  \n",
            "102                        26          Satisfied  \n",
            "108                        19          Satisfied  \n",
            "114                        27          Satisfied  \n",
            "120                        20          Satisfied  \n",
            "126                        22          Satisfied  \n",
            "132                        26          Satisfied  \n",
            "138                        19          Satisfied  \n",
            "144                        26          Satisfied  \n",
            "150                        19          Satisfied  \n",
            "156                        27          Satisfied  \n",
            "162                        20          Satisfied  \n",
            "168                        22          Satisfied  \n",
            "174                        27          Satisfied  \n",
            "180                        19          Satisfied  \n",
            "186                        26          Satisfied  \n",
            "192                        20          Satisfied  \n",
            "198                        22          Satisfied  \n",
            "203                        18          Satisfied  \n",
            "209                        21          Satisfied  \n",
            "215                        26          Satisfied  \n",
            "221                        19          Satisfied  \n",
            "227                        27          Satisfied  \n",
            "233                        20          Satisfied  \n",
            "239                        22          Satisfied  \n",
            "245                        28          Satisfied  \n",
            "251                        21          Satisfied  \n",
            "257                        29          Satisfied  \n",
            "263                        22          Satisfied  \n",
            "269                        30          Satisfied  \n",
            "275                        23          Satisfied  \n",
            "281                        31          Satisfied  \n",
            "287                        24          Satisfied  \n",
            "293                        32          Satisfied  \n",
            "299                        25          Satisfied  \n",
            "305                        33          Satisfied  \n",
            "311                        25          Satisfied  \n",
            "317                        34          Satisfied  \n",
            "323                        27          Satisfied  \n",
            "329                        35          Satisfied  \n",
            "335                        28          Satisfied  \n",
            "341                        36          Satisfied  \n",
            "347                        28          Satisfied  \n"
          ]
        }
      ]
    },
    {
      "cell_type": "markdown",
      "source": [
        "### **Analysis**\n",
        "\n",
        "\n",
        " ( Hint: Group by, conditional filtering, Visualization )"
      ],
      "metadata": {
        "id": "gfrMSB3uUkMQ"
      }
    },
    {
      "cell_type": "markdown",
      "source": [
        "##### Which membership type shows the highest total spending in the\n",
        "\n",
        "*   List item\n",
        "*   List item\n",
        "\n",
        "dataset?  (2 Points)"
      ],
      "metadata": {
        "id": "y-XU-2D1UlJJ"
      }
    },
    {
      "cell_type": "markdown",
      "source": [
        "Group the Data by Membership Type and Sum Total Spend"
      ],
      "metadata": {
        "id": "Age5F6uOU8rJ"
      }
    },
    {
      "cell_type": "code",
      "source": [
        "membership_spending = df.groupby('Membership Type')['Total Spend'].sum().reset_index()\n",
        "print(\"\\nTotal Spending by Membership Type:\")\n",
        "print(membership_spending)"
      ],
      "metadata": {
        "colab": {
          "base_uri": "https://localhost:8080/"
        },
        "id": "lhqD3cFyUujJ",
        "outputId": "5d4f7ef0-6e16-4c21-aba5-76295a1f41f3"
      },
      "execution_count": 16,
      "outputs": [
        {
          "output_type": "stream",
          "name": "stdout",
          "text": [
            "\n",
            "Total Spending by Membership Type:\n",
            "  Membership Type  Total Spend\n",
            "0          Bronze      54913.1\n",
            "1            Gold     153403.9\n",
            "2          Silver      87566.6\n"
          ]
        }
      ]
    },
    {
      "cell_type": "markdown",
      "source": [
        "Visulization"
      ],
      "metadata": {
        "id": "qW1pH9tMVbQw"
      }
    },
    {
      "cell_type": "code",
      "source": [
        "import matplotlib.pyplot as plt\n",
        "\n",
        "# Visualization\n",
        "plt.figure(figsize=(8, 5))\n",
        "plt.bar(membership_spending['Membership Type'], membership_spending['Total Spend'], color=['gold', 'silver', 'brown'])\n",
        "plt.title('Total Spending by Membership Type')\n",
        "plt.xlabel('Membership Type')\n",
        "plt.ylabel('Total Spend ($)')\n",
        "plt.xticks(rotation=45)\n",
        "plt.grid(axis='y')\n",
        "plt.show()\n"
      ],
      "metadata": {
        "colab": {
          "base_uri": "https://localhost:8080/",
          "height": 517
        },
        "id": "UVXJHPpeVXr3",
        "outputId": "ec3509b5-7b8c-4d5d-fa3d-88063241237c"
      },
      "execution_count": 17,
      "outputs": [
        {
          "output_type": "display_data",
          "data": {
            "text/plain": [
              "<Figure size 800x500 with 1 Axes>"
            ],
            "image/png": "[encoded data removed]"
          },
          "metadata": {}
        }
      ]
    },
    {
      "cell_type": "markdown",
      "source": [
        "#### How does customer satisfaction impact total spending across different membership types? Which membership type spends more based on satisfaction levels? (2 Points)"
      ],
      "metadata": {
        "id": "915hGC08VgbA"
      }
    },
    {
      "cell_type": "markdown",
      "source": [
        "Group the Data by Membership Type and Satisfaction Level, and Sum Total Spend"
      ],
      "metadata": {
        "id": "UjUZUbl2Vr7P"
      }
    },
    {
      "cell_type": "code",
      "source": [
        "satisfaction_spending = df.groupby(['Membership Type', 'Satisfaction Level'])['Total Spend'].sum().unstack()\n",
        "print(\"\\nTotal Spending by Membership Type and Satisfaction Level:\")\n",
        "print(satisfaction_spending)"
      ],
      "metadata": {
        "colab": {
          "base_uri": "https://localhost:8080/"
        },
        "id": "JsVW1q_DVkC4",
        "outputId": "f350af70-dbd7-41e8-8a2f-6632c8324c86"
      },
      "execution_count": 18,
      "outputs": [
        {
          "output_type": "stream",
          "name": "stdout",
          "text": [
            "\n",
            "Total Spending by Membership Type and Satisfaction Level:\n",
            "Satisfaction Level  Neutral  Satisfied  Unsatisfied\n",
            "Membership Type                                    \n",
            "Bronze              25068.3        NaN      28993.2\n",
            "Gold                    NaN   153403.9          NaN\n",
            "Silver              40888.0     6636.0      40042.6\n"
          ]
        }
      ]
    },
    {
      "cell_type": "markdown",
      "source": [
        "Visulization"
      ],
      "metadata": {
        "id": "PuF7OqobVtSP"
      }
    },
    {
      "cell_type": "code",
      "source": [
        "import matplotlib.pyplot as plt\n",
        "\n",
        "#visulization\n",
        "satisfaction_spending.plot(kind='bar', figsize=(10, 6))\n",
        "plt.title('Total Spending by Membership Type and Satisfaction Level')\n",
        "plt.xlabel('Membership Type')\n",
        "plt.ylabel('Total Spend ($)')\n",
        "plt.xticks(rotation=0)\n",
        "plt.legend(title='Satisfaction Level')\n",
        "plt.grid(axis='y')\n",
        "plt.show()"
      ],
      "metadata": {
        "colab": {
          "base_uri": "https://localhost:8080/",
          "height": 564
        },
        "id": "QVpwB5pFVvbH",
        "outputId": "940a5d68-e3db-4c8e-f2fb-2ceb96d7d87f"
      },
      "execution_count": 19,
      "outputs": [
        {
          "output_type": "display_data",
          "data": {
            "text/plain": [
              "<Figure size 1000x600 with 1 Axes>"
            ],
            "image/png": "[encoded data removed]"
          },
          "metadata": {}
        }
      ]
    },
    {
      "cell_type": "code",
      "source": [
        "import seaborn as sns\n",
        "\n",
        "#Visulization\n",
        "plt.figure(figsize=(10, 6))\n",
        "sns.heatmap(satisfaction_spending, annot=True, fmt=\".2f\", cmap=\"YlGnBu\", linewidths=0.5)\n",
        "plt.title('Total Spending by Membership Type and Satisfaction Level')\n",
        "plt.xlabel('Satisfaction Level')\n",
        "plt.ylabel('Membership Type')\n",
        "plt.show()"
      ],
      "metadata": {
        "colab": {
          "base_uri": "https://localhost:8080/",
          "height": 564
        },
        "id": "DHFl9HVhWHYY",
        "outputId": "afc3ec0d-11ba-4b2f-86c6-9f4b33f2333e"
      },
      "execution_count": 20,
      "outputs": [
        {
          "output_type": "display_data",
          "data": {
            "text/plain": [
              "<Figure size 1000x600 with 2 Axes>"
            ],
            "image/png": "[encoded data removed]"
          },
          "metadata": {}
        }
      ]
    },
    {
      "cell_type": "markdown",
      "source": [
        "#### What is the average rating for customers who applied discounts, and\n",
        "\n",
        "1.   List item\n",
        "2.   List item\n",
        "\n",
        "does the membership type have any effect on the ratings? (2 points)"
      ],
      "metadata": {
        "id": "YCwliGy1WK85"
      }
    },
    {
      "cell_type": "markdown",
      "source": [
        "Filter the Data for Customers Who Applied Discounts"
      ],
      "metadata": {
        "id": "JjRK2sSyWVLb"
      }
    },
    {
      "cell_type": "code",
      "source": [
        "discounted_customers = df[df['Discount Applied'] == True]\n",
        "average_rating_discounted = discounted_customers['Average Rating'].mean()\n",
        "print(f\"\\nAverage Rating for Customers Who Applied Discounts: {average_rating_discounted:.2f}\")"
      ],
      "metadata": {
        "colab": {
          "base_uri": "https://localhost:8080/"
        },
        "id": "_WqtxKG1WKXP",
        "outputId": "4efa98a9-08f5-40ed-ffe4-ca323b6e06ba"
      },
      "execution_count": 21,
      "outputs": [
        {
          "output_type": "stream",
          "name": "stdout",
          "text": [
            "\n",
            "Average Rating for Customers Who Applied Discounts: 3.98\n"
          ]
        }
      ]
    },
    {
      "cell_type": "markdown",
      "source": [
        " Group by Membership Type and Calculate Average Ratings"
      ],
      "metadata": {
        "id": "n88yHPKdWZKU"
      }
    },
    {
      "cell_type": "code",
      "source": [
        "average_rating_by_membership = df.groupby('Membership Type')['Average Rating'].mean()\n",
        "print(\"\\nAverage Ratings by Membership Type:\")\n",
        "print(average_rating_by_membership)"
      ],
      "metadata": {
        "colab": {
          "base_uri": "https://localhost:8080/"
        },
        "id": "l9qAEXs8WblC",
        "outputId": "4ae5b368-f6f6-4974-ce22-3e5dfcc0fb19"
      },
      "execution_count": 22,
      "outputs": [
        {
          "output_type": "stream",
          "name": "stdout",
          "text": [
            "\n",
            "Average Ratings by Membership Type:\n",
            "Membership Type\n",
            "Bronze    3.325000\n",
            "Gold      4.675214\n",
            "Silver    4.051282\n",
            "Name: Average Rating, dtype: float64\n"
          ]
        }
      ]
    },
    {
      "cell_type": "markdown",
      "source": [
        "Visulization"
      ],
      "metadata": {
        "id": "2ok8xtdCWeIr"
      }
    },
    {
      "cell_type": "code",
      "source": [
        "average_rating_by_membership.plot(kind='bar', figsize=(10, 6), color='skyblue')\n",
        "plt.title('Average Ratings by Membership Type')\n",
        "plt.xlabel('Membership Type')\n",
        "plt.ylabel('Average Rating')\n",
        "plt.xticks(rotation=0)\n",
        "plt.grid(axis='y')\n",
        "plt.show()"
      ],
      "metadata": {
        "colab": {
          "base_uri": "https://localhost:8080/",
          "height": 564
        },
        "id": "Tca_46UGWhIb",
        "outputId": "537ede2b-443d-48d5-d0ee-a9b45df11797"
      },
      "execution_count": 23,
      "outputs": [
        {
          "output_type": "display_data",
          "data": {
            "text/plain": [
              "<Figure size 1000x600 with 1 Axes>"
            ],
            "image/png": "[encoded data removed]"
          },
          "metadata": {}
        }
      ]
    },
    {
      "cell_type": "markdown",
      "source": [
        "#### Analyze the Impact of Days Since Last Purchase on Satisfaction Level (2 Points)"
      ],
      "metadata": {
        "id": "NVZ3Y-p6WulA"
      }
    },
    {
      "cell_type": "markdown",
      "source": [
        "Group by Satisfaction Level"
      ],
      "metadata": {
        "id": "gU-_RtilWuvi"
      }
    },
    {
      "cell_type": "code",
      "source": [
        "average_days_since_last_purchase = df.groupby('Satisfaction Level')['Days Since Last Purchase'].mean()\n",
        "print(\"\\nAverage Days Since Last Purchase by Satisfaction Level:\")\n",
        "print(average_days_since_last_purchase)"
      ],
      "metadata": {
        "colab": {
          "base_uri": "https://localhost:8080/"
        },
        "id": "efSMRn3QWyUA",
        "outputId": "83258b6b-2425-4f29-969b-f346923e9f1a"
      },
      "execution_count": 24,
      "outputs": [
        {
          "output_type": "stream",
          "name": "stdout",
          "text": [
            "\n",
            "Average Days Since Last Purchase by Satisfaction Level:\n",
            "Satisfaction Level\n",
            "Neutral        19.289720\n",
            "Satisfied      17.696000\n",
            "Unsatisfied    42.982759\n",
            "Name: Days Since Last Purchase, dtype: float64\n"
          ]
        }
      ]
    },
    {
      "cell_type": "markdown",
      "source": [
        "Visulization"
      ],
      "metadata": {
        "id": "uxZBnucaW09R"
      }
    },
    {
      "cell_type": "code",
      "source": [
        "average_days_since_last_purchase.plot(kind='bar', figsize=(10, 6), color='lightgreen')\n",
        "plt.title('Average Days Since Last Purchase by Satisfaction Level')\n",
        "plt.xlabel('Satisfaction Level')\n",
        "plt.ylabel('Average Days Since Last Purchase')\n",
        "plt.xticks(rotation=0)\n",
        "plt.grid(axis='y')\n",
        "plt.show()"
      ],
      "metadata": {
        "colab": {
          "base_uri": "https://localhost:8080/",
          "height": 564
        },
        "id": "yPP2OJ9zW2_Z",
        "outputId": "06e72df2-86fa-480d-e385-44939be90ff0"
      },
      "execution_count": 25,
      "outputs": [
        {
          "output_type": "display_data",
          "data": {
            "text/plain": [
              "<Figure size 1000x600 with 1 Axes>"
            ],
            "image/png": "[encoded data removed]"
          },
          "metadata": {}
        }
      ]
    }
  ]
}